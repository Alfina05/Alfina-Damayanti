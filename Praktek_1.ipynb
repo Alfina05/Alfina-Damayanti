{
  "nbformat": 4,
  "nbformat_minor": 0,
  "metadata": {
    "colab": {
      "name": "Praktek 1.ipynb",
      "provenance": [],
      "collapsed_sections": [],
      "authorship_tag": "ABX9TyPX8BeelqLCj9sFXz6ozKzc",
      "include_colab_link": true
    },
    "kernelspec": {
      "name": "python3",
      "display_name": "Python 3"
    }
  },
  "cells": [
    {
      "cell_type": "markdown",
      "metadata": {
        "id": "view-in-github",
        "colab_type": "text"
      },
      "source": [
        "<a href=\"https://colab.research.google.com/github/Alfina05/Alfina-Damayanti/blob/main/Praktek_1.ipynb\" target=\"_parent\"><img src=\"https://colab.research.google.com/assets/colab-badge.svg\" alt=\"Open In Colab\"/></a>"
      ]
    },
    {
      "cell_type": "code",
      "metadata": {
        "id": "1QLvtgVFf9hv",
        "outputId": "4dd8fcf2-8c04-4e86-a32f-7c536ce6f70d",
        "colab": {
          "base_uri": "https://localhost:8080/",
          "height": 51
        }
      },
      "source": [
        "nama = \"Alfina Damayanti\"\n",
        "nim = 2018102008\n",
        "\n",
        "print(\"nama =\",nama, \"\\n\",\"nim =\", nim)"
      ],
      "execution_count": 1,
      "outputs": [
        {
          "output_type": "stream",
          "text": [
            "nama = Alfina Damayanti \n",
            " nim = 2018102008\n"
          ],
          "name": "stdout"
        }
      ]
    },
    {
      "cell_type": "code",
      "metadata": {
        "id": "85TO2J8piTC6",
        "outputId": "37a2460b-8945-4d43-8de0-2aa851219995",
        "colab": {
          "base_uri": "https://localhost:8080/",
          "height": 122
        }
      },
      "source": [
        "pip install pandas\n"
      ],
      "execution_count": 1,
      "outputs": [
        {
          "output_type": "stream",
          "text": [
            "Requirement already satisfied: pandas in /usr/local/lib/python3.6/dist-packages (1.1.2)\n",
            "Requirement already satisfied: pytz>=2017.2 in /usr/local/lib/python3.6/dist-packages (from pandas) (2018.9)\n",
            "Requirement already satisfied: python-dateutil>=2.7.3 in /usr/local/lib/python3.6/dist-packages (from pandas) (2.8.1)\n",
            "Requirement already satisfied: numpy>=1.15.4 in /usr/local/lib/python3.6/dist-packages (from pandas) (1.18.5)\n",
            "Requirement already satisfied: six>=1.5 in /usr/local/lib/python3.6/dist-packages (from python-dateutil>=2.7.3->pandas) (1.15.0)\n"
          ],
          "name": "stdout"
        }
      ]
    },
    {
      "cell_type": "code",
      "metadata": {
        "id": "wauhqUFbrfvM",
        "outputId": "38ec2c56-fe20-489f-c796-ebf41a07aa46",
        "colab": {
          "base_uri": "https://localhost:8080/",
          "height": 762
        }
      },
      "source": [
        "import pandas as pd\n",
        "path='/content/sample_data/spotifychart_berharap-tak-berpisah.csv'\n",
        "dataset=pd.read_csv(path)\n",
        "dataset"
      ],
      "execution_count": 22,
      "outputs": [
        {
          "output_type": "execute_result",
          "data": {
            "text/html": [
              "<div>\n",
              "<style scoped>\n",
              "    .dataframe tbody tr th:only-of-type {\n",
              "        vertical-align: middle;\n",
              "    }\n",
              "\n",
              "    .dataframe tbody tr th {\n",
              "        vertical-align: top;\n",
              "    }\n",
              "\n",
              "    .dataframe thead th {\n",
              "        text-align: right;\n",
              "    }\n",
              "</style>\n",
              "<table border=\"1\" class=\"dataframe\">\n",
              "  <thead>\n",
              "    <tr style=\"text-align: right;\">\n",
              "      <th></th>\n",
              "      <th>Unnamed: 0</th>\n",
              "      <th>Position</th>\n",
              "      <th>Track Name</th>\n",
              "      <th>Streams</th>\n",
              "      <th>date</th>\n",
              "    </tr>\n",
              "  </thead>\n",
              "  <tbody>\n",
              "    <tr>\n",
              "      <th>0</th>\n",
              "      <td>121</td>\n",
              "      <td>121</td>\n",
              "      <td>Berharap Tak Berpisah</td>\n",
              "      <td>211997</td>\n",
              "      <td>2019-07-05</td>\n",
              "    </tr>\n",
              "    <tr>\n",
              "      <th>1</th>\n",
              "      <td>74</td>\n",
              "      <td>74</td>\n",
              "      <td>Berharap Tak Berpisah</td>\n",
              "      <td>286733</td>\n",
              "      <td>2019-07-12</td>\n",
              "    </tr>\n",
              "    <tr>\n",
              "      <th>2</th>\n",
              "      <td>95</td>\n",
              "      <td>95</td>\n",
              "      <td>Berharap Tak Berpisah</td>\n",
              "      <td>245177</td>\n",
              "      <td>2019-07-19</td>\n",
              "    </tr>\n",
              "    <tr>\n",
              "      <th>3</th>\n",
              "      <td>107</td>\n",
              "      <td>107</td>\n",
              "      <td>Berharap Tak Berpisah</td>\n",
              "      <td>233958</td>\n",
              "      <td>2019-07-26</td>\n",
              "    </tr>\n",
              "    <tr>\n",
              "      <th>4</th>\n",
              "      <td>112</td>\n",
              "      <td>112</td>\n",
              "      <td>Berharap Tak Berpisah</td>\n",
              "      <td>240201</td>\n",
              "      <td>2019-08-02</td>\n",
              "    </tr>\n",
              "    <tr>\n",
              "      <th>5</th>\n",
              "      <td>121</td>\n",
              "      <td>121</td>\n",
              "      <td>Berharap Tak Berpisah</td>\n",
              "      <td>223541</td>\n",
              "      <td>2019-08-09</td>\n",
              "    </tr>\n",
              "    <tr>\n",
              "      <th>6</th>\n",
              "      <td>128</td>\n",
              "      <td>128</td>\n",
              "      <td>Berharap Tak Berpisah</td>\n",
              "      <td>216446</td>\n",
              "      <td>2019-08-16</td>\n",
              "    </tr>\n",
              "    <tr>\n",
              "      <th>7</th>\n",
              "      <td>102</td>\n",
              "      <td>102</td>\n",
              "      <td>Berharap Tak Berpisah</td>\n",
              "      <td>247188</td>\n",
              "      <td>2019-08-23</td>\n",
              "    </tr>\n",
              "    <tr>\n",
              "      <th>8</th>\n",
              "      <td>102</td>\n",
              "      <td>102</td>\n",
              "      <td>Berharap Tak Berpisah</td>\n",
              "      <td>254747</td>\n",
              "      <td>2019-08-30</td>\n",
              "    </tr>\n",
              "    <tr>\n",
              "      <th>9</th>\n",
              "      <td>104</td>\n",
              "      <td>104</td>\n",
              "      <td>Berharap Tak Berpisah</td>\n",
              "      <td>270577</td>\n",
              "      <td>2019-09-06</td>\n",
              "    </tr>\n",
              "    <tr>\n",
              "      <th>10</th>\n",
              "      <td>101</td>\n",
              "      <td>101</td>\n",
              "      <td>Berharap Tak Berpisah</td>\n",
              "      <td>282725</td>\n",
              "      <td>2019-09-13</td>\n",
              "    </tr>\n",
              "    <tr>\n",
              "      <th>11</th>\n",
              "      <td>103</td>\n",
              "      <td>103</td>\n",
              "      <td>Berharap Tak Berpisah</td>\n",
              "      <td>273114</td>\n",
              "      <td>2019-09-20</td>\n",
              "    </tr>\n",
              "    <tr>\n",
              "      <th>12</th>\n",
              "      <td>112</td>\n",
              "      <td>112</td>\n",
              "      <td>Berharap Tak Berpisah</td>\n",
              "      <td>256458</td>\n",
              "      <td>2019-09-27</td>\n",
              "    </tr>\n",
              "    <tr>\n",
              "      <th>13</th>\n",
              "      <td>111</td>\n",
              "      <td>111</td>\n",
              "      <td>Berharap Tak Berpisah</td>\n",
              "      <td>275831</td>\n",
              "      <td>2019-10-04</td>\n",
              "    </tr>\n",
              "    <tr>\n",
              "      <th>14</th>\n",
              "      <td>106</td>\n",
              "      <td>106</td>\n",
              "      <td>Berharap Tak Berpisah</td>\n",
              "      <td>279645</td>\n",
              "      <td>2019-10-11</td>\n",
              "    </tr>\n",
              "    <tr>\n",
              "      <th>15</th>\n",
              "      <td>70</td>\n",
              "      <td>70</td>\n",
              "      <td>Berharap Tak Berpisah</td>\n",
              "      <td>356530</td>\n",
              "      <td>2019-10-18</td>\n",
              "    </tr>\n",
              "    <tr>\n",
              "      <th>16</th>\n",
              "      <td>35</td>\n",
              "      <td>35</td>\n",
              "      <td>Berharap Tak Berpisah</td>\n",
              "      <td>586841</td>\n",
              "      <td>2019-10-25</td>\n",
              "    </tr>\n",
              "    <tr>\n",
              "      <th>17</th>\n",
              "      <td>37</td>\n",
              "      <td>37</td>\n",
              "      <td>Berharap Tak Berpisah</td>\n",
              "      <td>595077</td>\n",
              "      <td>2019-11-01</td>\n",
              "    </tr>\n",
              "    <tr>\n",
              "      <th>18</th>\n",
              "      <td>40</td>\n",
              "      <td>40</td>\n",
              "      <td>Berharap Tak Berpisah</td>\n",
              "      <td>560468</td>\n",
              "      <td>2019-11-08</td>\n",
              "    </tr>\n",
              "    <tr>\n",
              "      <th>19</th>\n",
              "      <td>46</td>\n",
              "      <td>46</td>\n",
              "      <td>Berharap Tak Berpisah</td>\n",
              "      <td>521425</td>\n",
              "      <td>2019-11-15</td>\n",
              "    </tr>\n",
              "    <tr>\n",
              "      <th>20</th>\n",
              "      <td>52</td>\n",
              "      <td>52</td>\n",
              "      <td>Berharap Tak Berpisah</td>\n",
              "      <td>501505</td>\n",
              "      <td>2019-11-22</td>\n",
              "    </tr>\n",
              "    <tr>\n",
              "      <th>21</th>\n",
              "      <td>50</td>\n",
              "      <td>50</td>\n",
              "      <td>Berharap Tak Berpisah</td>\n",
              "      <td>510937</td>\n",
              "      <td>2019-11-29</td>\n",
              "    </tr>\n",
              "    <tr>\n",
              "      <th>22</th>\n",
              "      <td>56</td>\n",
              "      <td>56</td>\n",
              "      <td>Berharap Tak Berpisah</td>\n",
              "      <td>471882</td>\n",
              "      <td>2019-12-06</td>\n",
              "    </tr>\n",
              "  </tbody>\n",
              "</table>\n",
              "</div>"
            ],
            "text/plain": [
              "    Unnamed: 0  Position             Track Name  Streams        date\n",
              "0          121       121  Berharap Tak Berpisah   211997  2019-07-05\n",
              "1           74        74  Berharap Tak Berpisah   286733  2019-07-12\n",
              "2           95        95  Berharap Tak Berpisah   245177  2019-07-19\n",
              "3          107       107  Berharap Tak Berpisah   233958  2019-07-26\n",
              "4          112       112  Berharap Tak Berpisah   240201  2019-08-02\n",
              "5          121       121  Berharap Tak Berpisah   223541  2019-08-09\n",
              "6          128       128  Berharap Tak Berpisah   216446  2019-08-16\n",
              "7          102       102  Berharap Tak Berpisah   247188  2019-08-23\n",
              "8          102       102  Berharap Tak Berpisah   254747  2019-08-30\n",
              "9          104       104  Berharap Tak Berpisah   270577  2019-09-06\n",
              "10         101       101  Berharap Tak Berpisah   282725  2019-09-13\n",
              "11         103       103  Berharap Tak Berpisah   273114  2019-09-20\n",
              "12         112       112  Berharap Tak Berpisah   256458  2019-09-27\n",
              "13         111       111  Berharap Tak Berpisah   275831  2019-10-04\n",
              "14         106       106  Berharap Tak Berpisah   279645  2019-10-11\n",
              "15          70        70  Berharap Tak Berpisah   356530  2019-10-18\n",
              "16          35        35  Berharap Tak Berpisah   586841  2019-10-25\n",
              "17          37        37  Berharap Tak Berpisah   595077  2019-11-01\n",
              "18          40        40  Berharap Tak Berpisah   560468  2019-11-08\n",
              "19          46        46  Berharap Tak Berpisah   521425  2019-11-15\n",
              "20          52        52  Berharap Tak Berpisah   501505  2019-11-22\n",
              "21          50        50  Berharap Tak Berpisah   510937  2019-11-29\n",
              "22          56        56  Berharap Tak Berpisah   471882  2019-12-06"
            ]
          },
          "metadata": {
            "tags": []
          },
          "execution_count": 22
        }
      ]
    },
    {
      "cell_type": "code",
      "metadata": {
        "id": "opXzBspbubQg",
        "outputId": "b2da80b1-8fd4-49df-a888-9643e42f80fe",
        "colab": {
          "base_uri": "https://localhost:8080/",
          "height": 204
        }
      },
      "source": [
        "dataset.head()"
      ],
      "execution_count": 23,
      "outputs": [
        {
          "output_type": "execute_result",
          "data": {
            "text/html": [
              "<div>\n",
              "<style scoped>\n",
              "    .dataframe tbody tr th:only-of-type {\n",
              "        vertical-align: middle;\n",
              "    }\n",
              "\n",
              "    .dataframe tbody tr th {\n",
              "        vertical-align: top;\n",
              "    }\n",
              "\n",
              "    .dataframe thead th {\n",
              "        text-align: right;\n",
              "    }\n",
              "</style>\n",
              "<table border=\"1\" class=\"dataframe\">\n",
              "  <thead>\n",
              "    <tr style=\"text-align: right;\">\n",
              "      <th></th>\n",
              "      <th>Unnamed: 0</th>\n",
              "      <th>Position</th>\n",
              "      <th>Track Name</th>\n",
              "      <th>Streams</th>\n",
              "      <th>date</th>\n",
              "    </tr>\n",
              "  </thead>\n",
              "  <tbody>\n",
              "    <tr>\n",
              "      <th>0</th>\n",
              "      <td>121</td>\n",
              "      <td>121</td>\n",
              "      <td>Berharap Tak Berpisah</td>\n",
              "      <td>211997</td>\n",
              "      <td>2019-07-05</td>\n",
              "    </tr>\n",
              "    <tr>\n",
              "      <th>1</th>\n",
              "      <td>74</td>\n",
              "      <td>74</td>\n",
              "      <td>Berharap Tak Berpisah</td>\n",
              "      <td>286733</td>\n",
              "      <td>2019-07-12</td>\n",
              "    </tr>\n",
              "    <tr>\n",
              "      <th>2</th>\n",
              "      <td>95</td>\n",
              "      <td>95</td>\n",
              "      <td>Berharap Tak Berpisah</td>\n",
              "      <td>245177</td>\n",
              "      <td>2019-07-19</td>\n",
              "    </tr>\n",
              "    <tr>\n",
              "      <th>3</th>\n",
              "      <td>107</td>\n",
              "      <td>107</td>\n",
              "      <td>Berharap Tak Berpisah</td>\n",
              "      <td>233958</td>\n",
              "      <td>2019-07-26</td>\n",
              "    </tr>\n",
              "    <tr>\n",
              "      <th>4</th>\n",
              "      <td>112</td>\n",
              "      <td>112</td>\n",
              "      <td>Berharap Tak Berpisah</td>\n",
              "      <td>240201</td>\n",
              "      <td>2019-08-02</td>\n",
              "    </tr>\n",
              "  </tbody>\n",
              "</table>\n",
              "</div>"
            ],
            "text/plain": [
              "   Unnamed: 0  Position             Track Name  Streams        date\n",
              "0         121       121  Berharap Tak Berpisah   211997  2019-07-05\n",
              "1          74        74  Berharap Tak Berpisah   286733  2019-07-12\n",
              "2          95        95  Berharap Tak Berpisah   245177  2019-07-19\n",
              "3         107       107  Berharap Tak Berpisah   233958  2019-07-26\n",
              "4         112       112  Berharap Tak Berpisah   240201  2019-08-02"
            ]
          },
          "metadata": {
            "tags": []
          },
          "execution_count": 23
        }
      ]
    },
    {
      "cell_type": "code",
      "metadata": {
        "id": "MUvU1wYIu6q3",
        "outputId": "4ed31b27-5760-4977-c9bd-275dc2d36d7f",
        "colab": {
          "base_uri": "https://localhost:8080/",
          "height": 34
        }
      },
      "source": [
        "dataset.shape"
      ],
      "execution_count": 24,
      "outputs": [
        {
          "output_type": "execute_result",
          "data": {
            "text/plain": [
              "(23, 5)"
            ]
          },
          "metadata": {
            "tags": []
          },
          "execution_count": 24
        }
      ]
    },
    {
      "cell_type": "code",
      "metadata": {
        "id": "XVc99RUhvV2Z",
        "outputId": "a2dbdf64-cd65-4f7f-fe8e-b30ea8da2d06",
        "colab": {
          "base_uri": "https://localhost:8080/",
          "height": 119
        }
      },
      "source": [
        "dataset.isnull().sum()"
      ],
      "execution_count": 25,
      "outputs": [
        {
          "output_type": "execute_result",
          "data": {
            "text/plain": [
              "Unnamed: 0    0\n",
              "Position      0\n",
              "Track Name    0\n",
              "Streams       0\n",
              "date          0\n",
              "dtype: int64"
            ]
          },
          "metadata": {
            "tags": []
          },
          "execution_count": 25
        }
      ]
    },
    {
      "cell_type": "code",
      "metadata": {
        "id": "bTwcsfEPvgHB",
        "outputId": "1928533e-21d0-45d6-a655-e5e29521ac81",
        "colab": {
          "base_uri": "https://localhost:8080/",
          "height": 119
        }
      },
      "source": [
        "dataset.max()\n"
      ],
      "execution_count": 26,
      "outputs": [
        {
          "output_type": "execute_result",
          "data": {
            "text/plain": [
              "Unnamed: 0                      128\n",
              "Position                        128\n",
              "Track Name    Berharap Tak Berpisah\n",
              "Streams                      595077\n",
              "date                     2019-12-06\n",
              "dtype: object"
            ]
          },
          "metadata": {
            "tags": []
          },
          "execution_count": 26
        }
      ]
    },
    {
      "cell_type": "code",
      "metadata": {
        "id": "yjD1eNSovpQt",
        "outputId": "c3f2a5e9-3a87-4021-8e3e-4b9d13b8d30a",
        "colab": {
          "base_uri": "https://localhost:8080/",
          "height": 119
        }
      },
      "source": [
        "dataset.min()"
      ],
      "execution_count": 27,
      "outputs": [
        {
          "output_type": "execute_result",
          "data": {
            "text/plain": [
              "Unnamed: 0                       35\n",
              "Position                         35\n",
              "Track Name    Berharap Tak Berpisah\n",
              "Streams                      211997\n",
              "date                     2019-07-05\n",
              "dtype: object"
            ]
          },
          "metadata": {
            "tags": []
          },
          "execution_count": 27
        }
      ]
    },
    {
      "cell_type": "code",
      "metadata": {
        "id": "r-v_jEOfwO0l",
        "outputId": "bb36ae63-cec2-4435-a902-8d042ab501c7",
        "colab": {
          "base_uri": "https://localhost:8080/",
          "height": 297
        }
      },
      "source": [
        "dataset.describe()\n"
      ],
      "execution_count": 28,
      "outputs": [
        {
          "output_type": "execute_result",
          "data": {
            "text/html": [
              "<div>\n",
              "<style scoped>\n",
              "    .dataframe tbody tr th:only-of-type {\n",
              "        vertical-align: middle;\n",
              "    }\n",
              "\n",
              "    .dataframe tbody tr th {\n",
              "        vertical-align: top;\n",
              "    }\n",
              "\n",
              "    .dataframe thead th {\n",
              "        text-align: right;\n",
              "    }\n",
              "</style>\n",
              "<table border=\"1\" class=\"dataframe\">\n",
              "  <thead>\n",
              "    <tr style=\"text-align: right;\">\n",
              "      <th></th>\n",
              "      <th>Unnamed: 0</th>\n",
              "      <th>Position</th>\n",
              "      <th>Streams</th>\n",
              "    </tr>\n",
              "  </thead>\n",
              "  <tbody>\n",
              "    <tr>\n",
              "      <th>count</th>\n",
              "      <td>23.000000</td>\n",
              "      <td>23.000000</td>\n",
              "      <td>23.000000</td>\n",
              "    </tr>\n",
              "    <tr>\n",
              "      <th>mean</th>\n",
              "      <td>86.304348</td>\n",
              "      <td>86.304348</td>\n",
              "      <td>343608.826087</td>\n",
              "    </tr>\n",
              "    <tr>\n",
              "      <th>std</th>\n",
              "      <td>30.844824</td>\n",
              "      <td>30.844824</td>\n",
              "      <td>135114.075528</td>\n",
              "    </tr>\n",
              "    <tr>\n",
              "      <th>min</th>\n",
              "      <td>35.000000</td>\n",
              "      <td>35.000000</td>\n",
              "      <td>211997.000000</td>\n",
              "    </tr>\n",
              "    <tr>\n",
              "      <th>25%</th>\n",
              "      <td>54.000000</td>\n",
              "      <td>54.000000</td>\n",
              "      <td>246182.500000</td>\n",
              "    </tr>\n",
              "    <tr>\n",
              "      <th>50%</th>\n",
              "      <td>102.000000</td>\n",
              "      <td>102.000000</td>\n",
              "      <td>275831.000000</td>\n",
              "    </tr>\n",
              "    <tr>\n",
              "      <th>75%</th>\n",
              "      <td>109.000000</td>\n",
              "      <td>109.000000</td>\n",
              "      <td>486693.500000</td>\n",
              "    </tr>\n",
              "    <tr>\n",
              "      <th>max</th>\n",
              "      <td>128.000000</td>\n",
              "      <td>128.000000</td>\n",
              "      <td>595077.000000</td>\n",
              "    </tr>\n",
              "  </tbody>\n",
              "</table>\n",
              "</div>"
            ],
            "text/plain": [
              "       Unnamed: 0    Position        Streams\n",
              "count   23.000000   23.000000      23.000000\n",
              "mean    86.304348   86.304348  343608.826087\n",
              "std     30.844824   30.844824  135114.075528\n",
              "min     35.000000   35.000000  211997.000000\n",
              "25%     54.000000   54.000000  246182.500000\n",
              "50%    102.000000  102.000000  275831.000000\n",
              "75%    109.000000  109.000000  486693.500000\n",
              "max    128.000000  128.000000  595077.000000"
            ]
          },
          "metadata": {
            "tags": []
          },
          "execution_count": 28
        }
      ]
    },
    {
      "cell_type": "code",
      "metadata": {
        "id": "KCVVYzkvyLLO"
      },
      "source": [
        "data=dataset.dropna()"
      ],
      "execution_count": 33,
      "outputs": []
    },
    {
      "cell_type": "code",
      "metadata": {
        "id": "5WmZx3TUySoD",
        "outputId": "4333855e-1fd6-415c-85f2-86bfddcd3fa1",
        "colab": {
          "base_uri": "https://localhost:8080/",
          "height": 34
        }
      },
      "source": [
        "data.shape"
      ],
      "execution_count": 34,
      "outputs": [
        {
          "output_type": "execute_result",
          "data": {
            "text/plain": [
              "(23, 5)"
            ]
          },
          "metadata": {
            "tags": []
          },
          "execution_count": 34
        }
      ]
    },
    {
      "cell_type": "code",
      "metadata": {
        "id": "WB7b_e4WzWuz"
      },
      "source": [
        "dataset.dropna(axis=0,subset=['position','streams'],inplace=true)"
      ],
      "execution_count": null,
      "outputs": []
    },
    {
      "cell_type": "code",
      "metadata": {
        "id": "nn_seM-3y26V",
        "outputId": "c61b0b5a-d18d-422b-f730-49c4c4616194",
        "colab": {
          "base_uri": "https://localhost:8080/",
          "height": 34
        }
      },
      "source": [
        "dataset.shape"
      ],
      "execution_count": 36,
      "outputs": [
        {
          "output_type": "execute_result",
          "data": {
            "text/plain": [
              "(23, 5)"
            ]
          },
          "metadata": {
            "tags": []
          },
          "execution_count": 36
        }
      ]
    },
    {
      "cell_type": "code",
      "metadata": {
        "id": "yytPjv2pz2QS",
        "outputId": "512581f3-312a-4e02-8b0a-bc91bd3a84e3",
        "colab": {
          "base_uri": "https://localhost:8080/",
          "height": 425
        }
      },
      "source": [
        "#Memilih target prediksi(prediction target)\n",
        "y=data['Position']\n",
        "y"
      ],
      "execution_count": 37,
      "outputs": [
        {
          "output_type": "execute_result",
          "data": {
            "text/plain": [
              "0     121\n",
              "1      74\n",
              "2      95\n",
              "3     107\n",
              "4     112\n",
              "5     121\n",
              "6     128\n",
              "7     102\n",
              "8     102\n",
              "9     104\n",
              "10    101\n",
              "11    103\n",
              "12    112\n",
              "13    111\n",
              "14    106\n",
              "15     70\n",
              "16     35\n",
              "17     37\n",
              "18     40\n",
              "19     46\n",
              "20     52\n",
              "21     50\n",
              "22     56\n",
              "Name: Position, dtype: int64"
            ]
          },
          "metadata": {
            "tags": []
          },
          "execution_count": 37
        }
      ]
    },
    {
      "cell_type": "code",
      "metadata": {
        "id": "SiD1gxN80ceW",
        "outputId": "6fb53d46-5055-4a76-ae21-784e1af914dd",
        "colab": {
          "base_uri": "https://localhost:8080/",
          "height": 374
        }
      },
      "source": [
        "#Memilih Fitur (Feature selection)\n",
        "Fitur=['streams','position']\n",
        "x=data[Fitur]\n",
        "x"
      ],
      "execution_count": 42,
      "outputs": [
        {
          "output_type": "error",
          "ename": "KeyError",
          "evalue": "ignored",
          "traceback": [
            "\u001b[0;31m---------------------------------------------------------------------------\u001b[0m",
            "\u001b[0;31mKeyError\u001b[0m                                  Traceback (most recent call last)",
            "\u001b[0;32m<ipython-input-42-988cf6e340f4>\u001b[0m in \u001b[0;36m<module>\u001b[0;34m()\u001b[0m\n\u001b[1;32m      1\u001b[0m \u001b[0;31m#Memilih Fitur (Feature selection)\u001b[0m\u001b[0;34m\u001b[0m\u001b[0;34m\u001b[0m\u001b[0;34m\u001b[0m\u001b[0m\n\u001b[1;32m      2\u001b[0m \u001b[0mFitur\u001b[0m\u001b[0;34m=\u001b[0m\u001b[0;34m[\u001b[0m\u001b[0;34m'streams'\u001b[0m\u001b[0;34m,\u001b[0m\u001b[0;34m'position'\u001b[0m\u001b[0;34m]\u001b[0m\u001b[0;34m\u001b[0m\u001b[0;34m\u001b[0m\u001b[0m\n\u001b[0;32m----> 3\u001b[0;31m \u001b[0mx\u001b[0m\u001b[0;34m=\u001b[0m\u001b[0mdata\u001b[0m\u001b[0;34m[\u001b[0m\u001b[0mFitur\u001b[0m\u001b[0;34m]\u001b[0m\u001b[0;34m\u001b[0m\u001b[0;34m\u001b[0m\u001b[0m\n\u001b[0m\u001b[1;32m      4\u001b[0m \u001b[0mx\u001b[0m\u001b[0;34m\u001b[0m\u001b[0;34m\u001b[0m\u001b[0m\n",
            "\u001b[0;32m/usr/local/lib/python3.6/dist-packages/pandas/core/frame.py\u001b[0m in \u001b[0;36m__getitem__\u001b[0;34m(self, key)\u001b[0m\n\u001b[1;32m   2906\u001b[0m             \u001b[0;32mif\u001b[0m \u001b[0mis_iterator\u001b[0m\u001b[0;34m(\u001b[0m\u001b[0mkey\u001b[0m\u001b[0;34m)\u001b[0m\u001b[0;34m:\u001b[0m\u001b[0;34m\u001b[0m\u001b[0;34m\u001b[0m\u001b[0m\n\u001b[1;32m   2907\u001b[0m                 \u001b[0mkey\u001b[0m \u001b[0;34m=\u001b[0m \u001b[0mlist\u001b[0m\u001b[0;34m(\u001b[0m\u001b[0mkey\u001b[0m\u001b[0;34m)\u001b[0m\u001b[0;34m\u001b[0m\u001b[0;34m\u001b[0m\u001b[0m\n\u001b[0;32m-> 2908\u001b[0;31m             \u001b[0mindexer\u001b[0m \u001b[0;34m=\u001b[0m \u001b[0mself\u001b[0m\u001b[0;34m.\u001b[0m\u001b[0mloc\u001b[0m\u001b[0;34m.\u001b[0m\u001b[0m_get_listlike_indexer\u001b[0m\u001b[0;34m(\u001b[0m\u001b[0mkey\u001b[0m\u001b[0;34m,\u001b[0m \u001b[0maxis\u001b[0m\u001b[0;34m=\u001b[0m\u001b[0;36m1\u001b[0m\u001b[0;34m,\u001b[0m \u001b[0mraise_missing\u001b[0m\u001b[0;34m=\u001b[0m\u001b[0;32mTrue\u001b[0m\u001b[0;34m)\u001b[0m\u001b[0;34m[\u001b[0m\u001b[0;36m1\u001b[0m\u001b[0;34m]\u001b[0m\u001b[0;34m\u001b[0m\u001b[0;34m\u001b[0m\u001b[0m\n\u001b[0m\u001b[1;32m   2909\u001b[0m \u001b[0;34m\u001b[0m\u001b[0m\n\u001b[1;32m   2910\u001b[0m         \u001b[0;31m# take() does not accept boolean indexers\u001b[0m\u001b[0;34m\u001b[0m\u001b[0;34m\u001b[0m\u001b[0;34m\u001b[0m\u001b[0m\n",
            "\u001b[0;32m/usr/local/lib/python3.6/dist-packages/pandas/core/indexing.py\u001b[0m in \u001b[0;36m_get_listlike_indexer\u001b[0;34m(self, key, axis, raise_missing)\u001b[0m\n\u001b[1;32m   1252\u001b[0m             \u001b[0mkeyarr\u001b[0m\u001b[0;34m,\u001b[0m \u001b[0mindexer\u001b[0m\u001b[0;34m,\u001b[0m \u001b[0mnew_indexer\u001b[0m \u001b[0;34m=\u001b[0m \u001b[0max\u001b[0m\u001b[0;34m.\u001b[0m\u001b[0m_reindex_non_unique\u001b[0m\u001b[0;34m(\u001b[0m\u001b[0mkeyarr\u001b[0m\u001b[0;34m)\u001b[0m\u001b[0;34m\u001b[0m\u001b[0;34m\u001b[0m\u001b[0m\n\u001b[1;32m   1253\u001b[0m \u001b[0;34m\u001b[0m\u001b[0m\n\u001b[0;32m-> 1254\u001b[0;31m         \u001b[0mself\u001b[0m\u001b[0;34m.\u001b[0m\u001b[0m_validate_read_indexer\u001b[0m\u001b[0;34m(\u001b[0m\u001b[0mkeyarr\u001b[0m\u001b[0;34m,\u001b[0m \u001b[0mindexer\u001b[0m\u001b[0;34m,\u001b[0m \u001b[0maxis\u001b[0m\u001b[0;34m,\u001b[0m \u001b[0mraise_missing\u001b[0m\u001b[0;34m=\u001b[0m\u001b[0mraise_missing\u001b[0m\u001b[0;34m)\u001b[0m\u001b[0;34m\u001b[0m\u001b[0;34m\u001b[0m\u001b[0m\n\u001b[0m\u001b[1;32m   1255\u001b[0m         \u001b[0;32mreturn\u001b[0m \u001b[0mkeyarr\u001b[0m\u001b[0;34m,\u001b[0m \u001b[0mindexer\u001b[0m\u001b[0;34m\u001b[0m\u001b[0;34m\u001b[0m\u001b[0m\n\u001b[1;32m   1256\u001b[0m \u001b[0;34m\u001b[0m\u001b[0m\n",
            "\u001b[0;32m/usr/local/lib/python3.6/dist-packages/pandas/core/indexing.py\u001b[0m in \u001b[0;36m_validate_read_indexer\u001b[0;34m(self, key, indexer, axis, raise_missing)\u001b[0m\n\u001b[1;32m   1296\u001b[0m             \u001b[0;32mif\u001b[0m \u001b[0mmissing\u001b[0m \u001b[0;34m==\u001b[0m \u001b[0mlen\u001b[0m\u001b[0;34m(\u001b[0m\u001b[0mindexer\u001b[0m\u001b[0;34m)\u001b[0m\u001b[0;34m:\u001b[0m\u001b[0;34m\u001b[0m\u001b[0;34m\u001b[0m\u001b[0m\n\u001b[1;32m   1297\u001b[0m                 \u001b[0maxis_name\u001b[0m \u001b[0;34m=\u001b[0m \u001b[0mself\u001b[0m\u001b[0;34m.\u001b[0m\u001b[0mobj\u001b[0m\u001b[0;34m.\u001b[0m\u001b[0m_get_axis_name\u001b[0m\u001b[0;34m(\u001b[0m\u001b[0maxis\u001b[0m\u001b[0;34m)\u001b[0m\u001b[0;34m\u001b[0m\u001b[0;34m\u001b[0m\u001b[0m\n\u001b[0;32m-> 1298\u001b[0;31m                 \u001b[0;32mraise\u001b[0m \u001b[0mKeyError\u001b[0m\u001b[0;34m(\u001b[0m\u001b[0;34mf\"None of [{key}] are in the [{axis_name}]\"\u001b[0m\u001b[0;34m)\u001b[0m\u001b[0;34m\u001b[0m\u001b[0;34m\u001b[0m\u001b[0m\n\u001b[0m\u001b[1;32m   1299\u001b[0m \u001b[0;34m\u001b[0m\u001b[0m\n\u001b[1;32m   1300\u001b[0m             \u001b[0;31m# We (temporarily) allow for some missing keys with .loc, except in\u001b[0m\u001b[0;34m\u001b[0m\u001b[0;34m\u001b[0m\u001b[0;34m\u001b[0m\u001b[0m\n",
            "\u001b[0;31mKeyError\u001b[0m: \"None of [Index(['streams', 'position'], dtype='object')] are in the [columns]\""
          ]
        }
      ]
    }
  ]
}