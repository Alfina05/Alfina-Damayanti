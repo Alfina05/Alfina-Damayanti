{
  "nbformat": 4,
  "nbformat_minor": 0,
  "metadata": {
    "colab": {
      "name": "Uas Navies bayes.ipynb",
      "provenance": [],
      "collapsed_sections": [],
      "authorship_tag": "ABX9TyOD8pYUwKTlnECQ6vZKhQFi",
      "include_colab_link": true
    },
    "kernelspec": {
      "name": "python3",
      "display_name": "Python 3"
    }
  },
  "cells": [
    {
      "cell_type": "markdown",
      "metadata": {
        "id": "view-in-github",
        "colab_type": "text"
      },
      "source": [
        "<a href=\"https://colab.research.google.com/github/Alfina05/Alfina-Damayanti/blob/main/Uas_Navies_bayes.ipynb\" target=\"_parent\"><img src=\"https://colab.research.google.com/assets/colab-badge.svg\" alt=\"Open In Colab\"/></a>"
      ]
    },
    {
      "cell_type": "code",
      "metadata": {
        "id": "ncpe6aikiseN"
      },
      "source": [
        "#Dataset Training\r\n",
        "\r\n",
        "JenisKelamin=['Laki-Laki','Laki-Laki','Perempuan','Perempuan','Laki-Laki','Laki-Laki','Perempuan','Perempuan','Laki-Laki','Perempuan']\r\n",
        "BiayaPerjalanan=['Murah','Murah','Murah','Murah','Murah','Standar','Standar','Mahal','Mahal','Mahal']\r\n",
        "IncomeLevel=['Rendah','Sedang','Sedang','Rendah','Sedang','Sedang','Sedang','Tinggi','Sedang','Tinggi']\r\n",
        "ModelTransportasi=['Bus','Bus','Kereta Api','Bus','Bus','Kereta Api','Kereta Api','Mobil','Mobil','Mobil']\r\n",
        "Tujuan=['No','Yes','Yes','No','Yes','No','Yes','Yes','No','No']"
      ],
      "execution_count": 1,
      "outputs": []
    },
    {
      "cell_type": "code",
      "metadata": {
        "colab": {
          "base_uri": "https://localhost:8080/"
        },
        "id": "UkTfqqy5jA4M",
        "outputId": "d014ddb6-b903-4136-9cc6-634db67c5e6b"
      },
      "source": [
        "from sklearn import preprocessing\r\n",
        "label = preprocessing.LabelEncoder()\r\n",
        "JenisKelamin_encoded=label.fit_transform(JenisKelamin)\r\n",
        "BiayaPerjalanan_encoded=label.fit_transform(BiayaPerjalanan)\r\n",
        "IncomeLevel_encoded=label.fit_transform(IncomeLevel)\r\n",
        "ModelTransportasi_encoded=label.fit_transform(ModelTransportasi)\r\n",
        "Tujuan_encoded=label.fit_transform(Tujuan)\r\n",
        "print(JenisKelamin_encoded)\r\n",
        "print(BiayaPerjalanan_encoded)\r\n",
        "print(IncomeLevel_encoded)\r\n",
        "print(ModelTransportasi_encoded)\r\n",
        "print(Tujuan_encoded)"
      ],
      "execution_count": 3,
      "outputs": [
        {
          "output_type": "stream",
          "text": [
            "[0 0 1 1 0 0 1 1 0 1]\n",
            "[1 1 1 1 1 2 2 0 0 0]\n",
            "[0 1 1 0 1 1 1 2 1 2]\n",
            "[0 0 1 0 0 1 1 2 2 2]\n",
            "[0 1 1 0 1 0 1 1 0 0]\n"
          ],
          "name": "stdout"
        }
      ]
    },
    {
      "cell_type": "code",
      "metadata": {
        "colab": {
          "base_uri": "https://localhost:8080/"
        },
        "id": "2dHNGL1ujTZ-",
        "outputId": "375065d9-cec0-49fb-b723-d82e9237c8e7"
      },
      "source": [
        "#Menentukan Tujuan \r\n",
        "\r\n",
        "print(\"Jenis Kelamin            :\",JenisKelamin_encoded)\r\n",
        "print(\"Biaya Perjalanan(Rp)/km  :\",BiayaPerjalanan_encoded)\r\n",
        "print(\"Income Level             :\",IncomeLevel_encoded)\r\n",
        "print(\"ModelTransportasi        :\",ModelTransportasi_encoded)\r\n",
        "print(\"Tujuan                   :\",Tujuan_encoded)"
      ],
      "execution_count": 4,
      "outputs": [
        {
          "output_type": "stream",
          "text": [
            "Jenis Kelamin            : [0 0 1 1 0 0 1 1 0 1]\n",
            "Biaya Perjalanan(Rp)/km  : [1 1 1 1 1 2 2 0 0 0]\n",
            "Income Level             : [0 1 1 0 1 1 1 2 1 2]\n",
            "ModelTransportasi        : [0 0 1 0 0 1 1 2 2 2]\n",
            "Tujuan                   : [0 1 1 0 1 0 1 1 0 0]\n"
          ],
          "name": "stdout"
        }
      ]
    },
    {
      "cell_type": "code",
      "metadata": {
        "colab": {
          "base_uri": "https://localhost:8080/"
        },
        "id": "UFcBoeSUjhol",
        "outputId": "667c8a21-233b-4285-a5ee-e2e9fb44956a"
      },
      "source": [
        "features=zip(JenisKelamin_encoded,BiayaPerjalanan_encoded,IncomeLevel_encoded,ModelTransportasi_encoded)\r\n",
        "features=list(features)\r\n",
        "print (tuple(features))"
      ],
      "execution_count": 5,
      "outputs": [
        {
          "output_type": "stream",
          "text": [
            "((0, 1, 0, 0), (0, 1, 1, 0), (1, 1, 1, 1), (1, 1, 0, 0), (0, 1, 1, 0), (0, 2, 1, 1), (1, 2, 1, 1), (1, 0, 2, 2), (0, 0, 1, 2), (1, 0, 2, 2))\n"
          ],
          "name": "stdout"
        }
      ]
    },
    {
      "cell_type": "code",
      "metadata": {
        "colab": {
          "base_uri": "https://localhost:8080/"
        },
        "id": "uFioCzAgjm2Q",
        "outputId": "3e2b7239-288e-4c69-a7ad-78377cdeb1fb"
      },
      "source": [
        "#untuk nilai 0 adalah Laki-Laki,untuk niali 1 adalah perempuan\r\n",
        "#untuk nilai 0 adalah Mahal,Untuk niali 1 adalah Murah,untuk nilai 2 adalah Standar\r\n",
        "#untuk nilai 0 adalah Rendah,Untuk nilai 1 adalah Sedang, Untuk nilai 2 adalah Tinggi\r\n",
        "#Untuk nilai 0 adalah Bus ,Untuk nilai 1 Adalah Kereta Api, untuk niali 2 adalah Mobil\r\n",
        "#Untuk nilai 0 Adalah No,Untuk nilai 1 adalah Yes\r\n",
        "from sklearn.naive_bayes import GaussianNB\r\n",
        "model = GaussianNB()\r\n",
        "model.fit(features,Tujuan)\r\n",
        "predicted= model.predict([[1,2,0,0]])\r\n",
        "print(\"Hasil Prediksi:\",predicted)"
      ],
      "execution_count": 6,
      "outputs": [
        {
          "output_type": "stream",
          "text": [
            "Hasil Prediksi: ['No']\n"
          ],
          "name": "stdout"
        }
      ]
    }
  ]
}