{
  "nbformat": 4,
  "nbformat_minor": 0,
  "metadata": {
    "colab": {
      "name": "uts.ipynb",
      "provenance": [],
      "collapsed_sections": [],
      "mount_file_id": "1dgEz3M1eiFZLjQr7VcsRJngYfggAe9sr",
      "authorship_tag": "ABX9TyPD19DJ4QjEuS3AetmburJa",
      "include_colab_link": true
    },
    "kernelspec": {
      "name": "python3",
      "display_name": "Python 3"
    }
  },
  "cells": [
    {
      "cell_type": "markdown",
      "metadata": {
        "id": "view-in-github",
        "colab_type": "text"
      },
      "source": [
        "<a href=\"https://colab.research.google.com/github/Alfina05/Alfina-Damayanti/blob/main/uts.ipynb\" target=\"_parent\"><img src=\"https://colab.research.google.com/assets/colab-badge.svg\" alt=\"Open In Colab\"/></a>"
      ]
    },
    {
      "cell_type": "code",
      "metadata": {
        "colab": {
          "base_uri": "https://localhost:8080/",
          "height": 419
        },
        "id": "iHxHyGnT0BVq",
        "outputId": "493ca4bd-9ef7-4de7-d5e1-4b4ea74f25fb"
      },
      "source": [
        "import pandas as pd\n",
        "path=\"/content/drive/MyDrive/Machine Learning/Dataset/covid_19_data.csv\"\n",
        "Dataset=pd.read_csv(path)\n",
        "Dataset"
      ],
      "execution_count": 1,
      "outputs": [
        {
          "output_type": "execute_result",
          "data": {
            "text/html": [
              "<div>\n",
              "<style scoped>\n",
              "    .dataframe tbody tr th:only-of-type {\n",
              "        vertical-align: middle;\n",
              "    }\n",
              "\n",
              "    .dataframe tbody tr th {\n",
              "        vertical-align: top;\n",
              "    }\n",
              "\n",
              "    .dataframe thead th {\n",
              "        text-align: right;\n",
              "    }\n",
              "</style>\n",
              "<table border=\"1\" class=\"dataframe\">\n",
              "  <thead>\n",
              "    <tr style=\"text-align: right;\">\n",
              "      <th></th>\n",
              "      <th>SNo</th>\n",
              "      <th>ObservationDate</th>\n",
              "      <th>Province/State</th>\n",
              "      <th>Country/Region</th>\n",
              "      <th>Last Update</th>\n",
              "      <th>Confirmed</th>\n",
              "      <th>Deaths</th>\n",
              "      <th>Recovered</th>\n",
              "    </tr>\n",
              "  </thead>\n",
              "  <tbody>\n",
              "    <tr>\n",
              "      <th>0</th>\n",
              "      <td>1</td>\n",
              "      <td>01/22/2020</td>\n",
              "      <td>Anhui</td>\n",
              "      <td>Mainland China</td>\n",
              "      <td>1/22/2020 17:00</td>\n",
              "      <td>1.0</td>\n",
              "      <td>0.0</td>\n",
              "      <td>0.0</td>\n",
              "    </tr>\n",
              "    <tr>\n",
              "      <th>1</th>\n",
              "      <td>2</td>\n",
              "      <td>01/22/2020</td>\n",
              "      <td>Beijing</td>\n",
              "      <td>Mainland China</td>\n",
              "      <td>1/22/2020 17:00</td>\n",
              "      <td>14.0</td>\n",
              "      <td>0.0</td>\n",
              "      <td>0.0</td>\n",
              "    </tr>\n",
              "    <tr>\n",
              "      <th>2</th>\n",
              "      <td>3</td>\n",
              "      <td>01/22/2020</td>\n",
              "      <td>Chongqing</td>\n",
              "      <td>Mainland China</td>\n",
              "      <td>1/22/2020 17:00</td>\n",
              "      <td>6.0</td>\n",
              "      <td>0.0</td>\n",
              "      <td>0.0</td>\n",
              "    </tr>\n",
              "    <tr>\n",
              "      <th>3</th>\n",
              "      <td>4</td>\n",
              "      <td>01/22/2020</td>\n",
              "      <td>Fujian</td>\n",
              "      <td>Mainland China</td>\n",
              "      <td>1/22/2020 17:00</td>\n",
              "      <td>1.0</td>\n",
              "      <td>0.0</td>\n",
              "      <td>0.0</td>\n",
              "    </tr>\n",
              "    <tr>\n",
              "      <th>4</th>\n",
              "      <td>5</td>\n",
              "      <td>01/22/2020</td>\n",
              "      <td>Gansu</td>\n",
              "      <td>Mainland China</td>\n",
              "      <td>1/22/2020 17:00</td>\n",
              "      <td>0.0</td>\n",
              "      <td>0.0</td>\n",
              "      <td>0.0</td>\n",
              "    </tr>\n",
              "    <tr>\n",
              "      <th>...</th>\n",
              "      <td>...</td>\n",
              "      <td>...</td>\n",
              "      <td>...</td>\n",
              "      <td>...</td>\n",
              "      <td>...</td>\n",
              "      <td>...</td>\n",
              "      <td>...</td>\n",
              "      <td>...</td>\n",
              "    </tr>\n",
              "    <tr>\n",
              "      <th>156287</th>\n",
              "      <td>156288</td>\n",
              "      <td>11/15/2020</td>\n",
              "      <td>Zaporizhia Oblast</td>\n",
              "      <td>Ukraine</td>\n",
              "      <td>2020-11-16 05:25:57</td>\n",
              "      <td>18484.0</td>\n",
              "      <td>164.0</td>\n",
              "      <td>3021.0</td>\n",
              "    </tr>\n",
              "    <tr>\n",
              "      <th>156288</th>\n",
              "      <td>156289</td>\n",
              "      <td>11/15/2020</td>\n",
              "      <td>Zeeland</td>\n",
              "      <td>Netherlands</td>\n",
              "      <td>2020-11-16 05:25:57</td>\n",
              "      <td>5041.0</td>\n",
              "      <td>86.0</td>\n",
              "      <td>0.0</td>\n",
              "    </tr>\n",
              "    <tr>\n",
              "      <th>156289</th>\n",
              "      <td>156290</td>\n",
              "      <td>11/15/2020</td>\n",
              "      <td>Zhejiang</td>\n",
              "      <td>Mainland China</td>\n",
              "      <td>2020-11-16 05:25:57</td>\n",
              "      <td>1291.0</td>\n",
              "      <td>1.0</td>\n",
              "      <td>1279.0</td>\n",
              "    </tr>\n",
              "    <tr>\n",
              "      <th>156290</th>\n",
              "      <td>156291</td>\n",
              "      <td>11/15/2020</td>\n",
              "      <td>Zhytomyr Oblast</td>\n",
              "      <td>Ukraine</td>\n",
              "      <td>2020-11-16 05:25:57</td>\n",
              "      <td>22225.0</td>\n",
              "      <td>368.0</td>\n",
              "      <td>12266.0</td>\n",
              "    </tr>\n",
              "    <tr>\n",
              "      <th>156291</th>\n",
              "      <td>156292</td>\n",
              "      <td>11/15/2020</td>\n",
              "      <td>Zuid-Holland</td>\n",
              "      <td>Netherlands</td>\n",
              "      <td>2020-11-16 05:25:57</td>\n",
              "      <td>129188.0</td>\n",
              "      <td>2031.0</td>\n",
              "      <td>0.0</td>\n",
              "    </tr>\n",
              "  </tbody>\n",
              "</table>\n",
              "<p>156292 rows × 8 columns</p>\n",
              "</div>"
            ],
            "text/plain": [
              "           SNo ObservationDate     Province/State  ... Confirmed  Deaths  Recovered\n",
              "0            1      01/22/2020              Anhui  ...       1.0     0.0        0.0\n",
              "1            2      01/22/2020            Beijing  ...      14.0     0.0        0.0\n",
              "2            3      01/22/2020          Chongqing  ...       6.0     0.0        0.0\n",
              "3            4      01/22/2020             Fujian  ...       1.0     0.0        0.0\n",
              "4            5      01/22/2020              Gansu  ...       0.0     0.0        0.0\n",
              "...        ...             ...                ...  ...       ...     ...        ...\n",
              "156287  156288      11/15/2020  Zaporizhia Oblast  ...   18484.0   164.0     3021.0\n",
              "156288  156289      11/15/2020            Zeeland  ...    5041.0    86.0        0.0\n",
              "156289  156290      11/15/2020           Zhejiang  ...    1291.0     1.0     1279.0\n",
              "156290  156291      11/15/2020    Zhytomyr Oblast  ...   22225.0   368.0    12266.0\n",
              "156291  156292      11/15/2020       Zuid-Holland  ...  129188.0  2031.0        0.0\n",
              "\n",
              "[156292 rows x 8 columns]"
            ]
          },
          "metadata": {
            "tags": []
          },
          "execution_count": 1
        }
      ]
    },
    {
      "cell_type": "code",
      "metadata": {
        "colab": {
          "base_uri": "https://localhost:8080/",
          "height": 204
        },
        "id": "GRZKxKVr3Mm7",
        "outputId": "ba885fec-f450-4324-a3f1-211849c91194"
      },
      "source": [
        "Dataset.head()"
      ],
      "execution_count": 2,
      "outputs": [
        {
          "output_type": "execute_result",
          "data": {
            "text/html": [
              "<div>\n",
              "<style scoped>\n",
              "    .dataframe tbody tr th:only-of-type {\n",
              "        vertical-align: middle;\n",
              "    }\n",
              "\n",
              "    .dataframe tbody tr th {\n",
              "        vertical-align: top;\n",
              "    }\n",
              "\n",
              "    .dataframe thead th {\n",
              "        text-align: right;\n",
              "    }\n",
              "</style>\n",
              "<table border=\"1\" class=\"dataframe\">\n",
              "  <thead>\n",
              "    <tr style=\"text-align: right;\">\n",
              "      <th></th>\n",
              "      <th>SNo</th>\n",
              "      <th>ObservationDate</th>\n",
              "      <th>Province/State</th>\n",
              "      <th>Country/Region</th>\n",
              "      <th>Last Update</th>\n",
              "      <th>Confirmed</th>\n",
              "      <th>Deaths</th>\n",
              "      <th>Recovered</th>\n",
              "    </tr>\n",
              "  </thead>\n",
              "  <tbody>\n",
              "    <tr>\n",
              "      <th>0</th>\n",
              "      <td>1</td>\n",
              "      <td>01/22/2020</td>\n",
              "      <td>Anhui</td>\n",
              "      <td>Mainland China</td>\n",
              "      <td>1/22/2020 17:00</td>\n",
              "      <td>1.0</td>\n",
              "      <td>0.0</td>\n",
              "      <td>0.0</td>\n",
              "    </tr>\n",
              "    <tr>\n",
              "      <th>1</th>\n",
              "      <td>2</td>\n",
              "      <td>01/22/2020</td>\n",
              "      <td>Beijing</td>\n",
              "      <td>Mainland China</td>\n",
              "      <td>1/22/2020 17:00</td>\n",
              "      <td>14.0</td>\n",
              "      <td>0.0</td>\n",
              "      <td>0.0</td>\n",
              "    </tr>\n",
              "    <tr>\n",
              "      <th>2</th>\n",
              "      <td>3</td>\n",
              "      <td>01/22/2020</td>\n",
              "      <td>Chongqing</td>\n",
              "      <td>Mainland China</td>\n",
              "      <td>1/22/2020 17:00</td>\n",
              "      <td>6.0</td>\n",
              "      <td>0.0</td>\n",
              "      <td>0.0</td>\n",
              "    </tr>\n",
              "    <tr>\n",
              "      <th>3</th>\n",
              "      <td>4</td>\n",
              "      <td>01/22/2020</td>\n",
              "      <td>Fujian</td>\n",
              "      <td>Mainland China</td>\n",
              "      <td>1/22/2020 17:00</td>\n",
              "      <td>1.0</td>\n",
              "      <td>0.0</td>\n",
              "      <td>0.0</td>\n",
              "    </tr>\n",
              "    <tr>\n",
              "      <th>4</th>\n",
              "      <td>5</td>\n",
              "      <td>01/22/2020</td>\n",
              "      <td>Gansu</td>\n",
              "      <td>Mainland China</td>\n",
              "      <td>1/22/2020 17:00</td>\n",
              "      <td>0.0</td>\n",
              "      <td>0.0</td>\n",
              "      <td>0.0</td>\n",
              "    </tr>\n",
              "  </tbody>\n",
              "</table>\n",
              "</div>"
            ],
            "text/plain": [
              "   SNo ObservationDate Province/State  ... Confirmed Deaths  Recovered\n",
              "0    1      01/22/2020          Anhui  ...       1.0    0.0        0.0\n",
              "1    2      01/22/2020        Beijing  ...      14.0    0.0        0.0\n",
              "2    3      01/22/2020      Chongqing  ...       6.0    0.0        0.0\n",
              "3    4      01/22/2020         Fujian  ...       1.0    0.0        0.0\n",
              "4    5      01/22/2020          Gansu  ...       0.0    0.0        0.0\n",
              "\n",
              "[5 rows x 8 columns]"
            ]
          },
          "metadata": {
            "tags": []
          },
          "execution_count": 2
        }
      ]
    },
    {
      "cell_type": "code",
      "metadata": {
        "id": "dlFFZs683SQY"
      },
      "source": [
        "import matplotlib.pyplot as plt\n",
        "%matplotlib inline"
      ],
      "execution_count": 3,
      "outputs": []
    },
    {
      "cell_type": "code",
      "metadata": {
        "colab": {
          "base_uri": "https://localhost:8080/",
          "height": 282
        },
        "id": "fwdrhS-B466o",
        "outputId": "38a13211-482d-4124-e426-84f636064241"
      },
      "source": [
        "plt.scatter(Dataset['ObservationDate'],Dataset['Country/Region'])"
      ],
      "execution_count": 4,
      "outputs": [
        {
          "output_type": "execute_result",
          "data": {
            "text/plain": [
              "<matplotlib.collections.PathCollection at 0x7ff9852f52e8>"
            ]
          },
          "metadata": {
            "tags": []
          },
          "execution_count": 4
        },
        {
          "output_type": "display_data",
          "data": {
            "image/png": "[encoded data removed]",
            "text/plain": [
              "<Figure size 432x288 with 1 Axes>"
            ]
          },
          "metadata": {
            "tags": [],
            "needs_background": "light"
          }
        }
      ]
    },
    {
      "cell_type": "code",
      "metadata": {
        "id": "Al4GYqoB6XNV"
      },
      "source": [
        "plt.scatter(Dataset['Province/State'],Dataset['Country/Region'])"
      ],
      "execution_count": null,
      "outputs": []
    },
    {
      "cell_type": "code",
      "metadata": {
        "id": "5KfDsC1j65QF"
      },
      "source": [
        "x=Dataset[['ObservationDate','Province/State']]\n",
        "y=Dataset['Country/Region']"
      ],
      "execution_count": 6,
      "outputs": []
    },
    {
      "cell_type": "code",
      "metadata": {
        "colab": {
          "base_uri": "https://localhost:8080/",
          "height": 419
        },
        "id": "-bKVkyDf7jnr",
        "outputId": "b5c5acc1-9149-4b00-e953-23e256891b46"
      },
      "source": [
        "x"
      ],
      "execution_count": 7,
      "outputs": [
        {
          "output_type": "execute_result",
          "data": {
            "text/html": [
              "<div>\n",
              "<style scoped>\n",
              "    .dataframe tbody tr th:only-of-type {\n",
              "        vertical-align: middle;\n",
              "    }\n",
              "\n",
              "    .dataframe tbody tr th {\n",
              "        vertical-align: top;\n",
              "    }\n",
              "\n",
              "    .dataframe thead th {\n",
              "        text-align: right;\n",
              "    }\n",
              "</style>\n",
              "<table border=\"1\" class=\"dataframe\">\n",
              "  <thead>\n",
              "    <tr style=\"text-align: right;\">\n",
              "      <th></th>\n",
              "      <th>ObservationDate</th>\n",
              "      <th>Province/State</th>\n",
              "    </tr>\n",
              "  </thead>\n",
              "  <tbody>\n",
              "    <tr>\n",
              "      <th>0</th>\n",
              "      <td>01/22/2020</td>\n",
              "      <td>Anhui</td>\n",
              "    </tr>\n",
              "    <tr>\n",
              "      <th>1</th>\n",
              "      <td>01/22/2020</td>\n",
              "      <td>Beijing</td>\n",
              "    </tr>\n",
              "    <tr>\n",
              "      <th>2</th>\n",
              "      <td>01/22/2020</td>\n",
              "      <td>Chongqing</td>\n",
              "    </tr>\n",
              "    <tr>\n",
              "      <th>3</th>\n",
              "      <td>01/22/2020</td>\n",
              "      <td>Fujian</td>\n",
              "    </tr>\n",
              "    <tr>\n",
              "      <th>4</th>\n",
              "      <td>01/22/2020</td>\n",
              "      <td>Gansu</td>\n",
              "    </tr>\n",
              "    <tr>\n",
              "      <th>...</th>\n",
              "      <td>...</td>\n",
              "      <td>...</td>\n",
              "    </tr>\n",
              "    <tr>\n",
              "      <th>156287</th>\n",
              "      <td>11/15/2020</td>\n",
              "      <td>Zaporizhia Oblast</td>\n",
              "    </tr>\n",
              "    <tr>\n",
              "      <th>156288</th>\n",
              "      <td>11/15/2020</td>\n",
              "      <td>Zeeland</td>\n",
              "    </tr>\n",
              "    <tr>\n",
              "      <th>156289</th>\n",
              "      <td>11/15/2020</td>\n",
              "      <td>Zhejiang</td>\n",
              "    </tr>\n",
              "    <tr>\n",
              "      <th>156290</th>\n",
              "      <td>11/15/2020</td>\n",
              "      <td>Zhytomyr Oblast</td>\n",
              "    </tr>\n",
              "    <tr>\n",
              "      <th>156291</th>\n",
              "      <td>11/15/2020</td>\n",
              "      <td>Zuid-Holland</td>\n",
              "    </tr>\n",
              "  </tbody>\n",
              "</table>\n",
              "<p>156292 rows × 2 columns</p>\n",
              "</div>"
            ],
            "text/plain": [
              "       ObservationDate     Province/State\n",
              "0           01/22/2020              Anhui\n",
              "1           01/22/2020            Beijing\n",
              "2           01/22/2020          Chongqing\n",
              "3           01/22/2020             Fujian\n",
              "4           01/22/2020              Gansu\n",
              "...                ...                ...\n",
              "156287      11/15/2020  Zaporizhia Oblast\n",
              "156288      11/15/2020            Zeeland\n",
              "156289      11/15/2020           Zhejiang\n",
              "156290      11/15/2020    Zhytomyr Oblast\n",
              "156291      11/15/2020       Zuid-Holland\n",
              "\n",
              "[156292 rows x 2 columns]"
            ]
          },
          "metadata": {
            "tags": []
          },
          "execution_count": 7
        }
      ]
    },
    {
      "cell_type": "code",
      "metadata": {
        "colab": {
          "base_uri": "https://localhost:8080/"
        },
        "id": "kHO88gtA7nbc",
        "outputId": "27acbbcd-d1e3-46a7-ac59-31f5a9cab49c"
      },
      "source": [
        "y"
      ],
      "execution_count": 8,
      "outputs": [
        {
          "output_type": "execute_result",
          "data": {
            "text/plain": [
              "0         Mainland China\n",
              "1         Mainland China\n",
              "2         Mainland China\n",
              "3         Mainland China\n",
              "4         Mainland China\n",
              "               ...      \n",
              "156287           Ukraine\n",
              "156288       Netherlands\n",
              "156289    Mainland China\n",
              "156290           Ukraine\n",
              "156291       Netherlands\n",
              "Name: Country/Region, Length: 156292, dtype: object"
            ]
          },
          "metadata": {
            "tags": []
          },
          "execution_count": 8
        }
      ]
    },
    {
      "cell_type": "code",
      "metadata": {
        "id": "6Nh7dVIw783p"
      },
      "source": [
        "from sklearn.model_selection import train_test_split"
      ],
      "execution_count": 9,
      "outputs": []
    },
    {
      "cell_type": "code",
      "metadata": {
        "id": "921fUkB08Bay"
      },
      "source": [
        "x_train,x_test,y_train,y_test=train_test_split(x,y,test_size=0.2)"
      ],
      "execution_count": 29,
      "outputs": []
    },
    {
      "cell_type": "code",
      "metadata": {
        "colab": {
          "base_uri": "https://localhost:8080/"
        },
        "id": "pxe4hNJc8F7X",
        "outputId": "521aba7d-fc16-4073-be43-cb03dc29a2a9"
      },
      "source": [
        "len(x_train)"
      ],
      "execution_count": 30,
      "outputs": [
        {
          "output_type": "execute_result",
          "data": {
            "text/plain": [
              "125033"
            ]
          },
          "metadata": {
            "tags": []
          },
          "execution_count": 30
        }
      ]
    },
    {
      "cell_type": "code",
      "metadata": {
        "colab": {
          "base_uri": "https://localhost:8080/"
        },
        "id": "vKSggro88RNC",
        "outputId": "c1f79fba-5143-4fd2-8f1b-f4e6f329a4a9"
      },
      "source": [
        "len(x_test)"
      ],
      "execution_count": 31,
      "outputs": [
        {
          "output_type": "execute_result",
          "data": {
            "text/plain": [
              "31259"
            ]
          },
          "metadata": {
            "tags": []
          },
          "execution_count": 31
        }
      ]
    },
    {
      "cell_type": "code",
      "metadata": {
        "colab": {
          "base_uri": "https://localhost:8080/",
          "height": 419
        },
        "id": "TliEZMUU8ZS1",
        "outputId": "1c5766b5-a258-458b-811a-f2549bd71c18"
      },
      "source": [
        "x_train"
      ],
      "execution_count": 32,
      "outputs": [
        {
          "output_type": "execute_result",
          "data": {
            "text/html": [
              "<div>\n",
              "<style scoped>\n",
              "    .dataframe tbody tr th:only-of-type {\n",
              "        vertical-align: middle;\n",
              "    }\n",
              "\n",
              "    .dataframe tbody tr th {\n",
              "        vertical-align: top;\n",
              "    }\n",
              "\n",
              "    .dataframe thead th {\n",
              "        text-align: right;\n",
              "    }\n",
              "</style>\n",
              "<table border=\"1\" class=\"dataframe\">\n",
              "  <thead>\n",
              "    <tr style=\"text-align: right;\">\n",
              "      <th></th>\n",
              "      <th>ObservationDate</th>\n",
              "      <th>Province/State</th>\n",
              "    </tr>\n",
              "  </thead>\n",
              "  <tbody>\n",
              "    <tr>\n",
              "      <th>110050</th>\n",
              "      <td>09/14/2020</td>\n",
              "      <td>Toscana</td>\n",
              "    </tr>\n",
              "    <tr>\n",
              "      <th>94386</th>\n",
              "      <td>08/24/2020</td>\n",
              "      <td>Rhode Island</td>\n",
              "    </tr>\n",
              "    <tr>\n",
              "      <th>88763</th>\n",
              "      <td>08/17/2020</td>\n",
              "      <td>NaN</td>\n",
              "    </tr>\n",
              "    <tr>\n",
              "      <th>153216</th>\n",
              "      <td>11/11/2020</td>\n",
              "      <td>Varmland</td>\n",
              "    </tr>\n",
              "    <tr>\n",
              "      <th>93539</th>\n",
              "      <td>08/23/2020</td>\n",
              "      <td>Molise</td>\n",
              "    </tr>\n",
              "    <tr>\n",
              "      <th>...</th>\n",
              "      <td>...</td>\n",
              "      <td>...</td>\n",
              "    </tr>\n",
              "    <tr>\n",
              "      <th>151561</th>\n",
              "      <td>11/09/2020</td>\n",
              "      <td>Oita</td>\n",
              "    </tr>\n",
              "    <tr>\n",
              "      <th>54443</th>\n",
              "      <td>07/01/2020</td>\n",
              "      <td>Northwest Territories</td>\n",
              "    </tr>\n",
              "    <tr>\n",
              "      <th>76047</th>\n",
              "      <td>07/31/2020</td>\n",
              "      <td>NaN</td>\n",
              "    </tr>\n",
              "    <tr>\n",
              "      <th>155808</th>\n",
              "      <td>11/15/2020</td>\n",
              "      <td>Chihuahua</td>\n",
              "    </tr>\n",
              "    <tr>\n",
              "      <th>102503</th>\n",
              "      <td>09/04/2020</td>\n",
              "      <td>Ontario</td>\n",
              "    </tr>\n",
              "  </tbody>\n",
              "</table>\n",
              "<p>125033 rows × 2 columns</p>\n",
              "</div>"
            ],
            "text/plain": [
              "       ObservationDate         Province/State\n",
              "110050      09/14/2020                Toscana\n",
              "94386       08/24/2020           Rhode Island\n",
              "88763       08/17/2020                    NaN\n",
              "153216      11/11/2020               Varmland\n",
              "93539       08/23/2020                 Molise\n",
              "...                ...                    ...\n",
              "151561      11/09/2020                   Oita\n",
              "54443       07/01/2020  Northwest Territories\n",
              "76047       07/31/2020                    NaN\n",
              "155808      11/15/2020              Chihuahua\n",
              "102503      09/04/2020                Ontario\n",
              "\n",
              "[125033 rows x 2 columns]"
            ]
          },
          "metadata": {
            "tags": []
          },
          "execution_count": 32
        }
      ]
    },
    {
      "cell_type": "code",
      "metadata": {
        "colab": {
          "base_uri": "https://localhost:8080/",
          "height": 419
        },
        "id": "v31ZEwvA8a0C",
        "outputId": "e822c4b1-5e82-468d-ee09-e57950340c48"
      },
      "source": [
        "x_test"
      ],
      "execution_count": 21,
      "outputs": [
        {
          "output_type": "execute_result",
          "data": {
            "text/html": [
              "<div>\n",
              "<style scoped>\n",
              "    .dataframe tbody tr th:only-of-type {\n",
              "        vertical-align: middle;\n",
              "    }\n",
              "\n",
              "    .dataframe tbody tr th {\n",
              "        vertical-align: top;\n",
              "    }\n",
              "\n",
              "    .dataframe thead th {\n",
              "        text-align: right;\n",
              "    }\n",
              "</style>\n",
              "<table border=\"1\" class=\"dataframe\">\n",
              "  <thead>\n",
              "    <tr style=\"text-align: right;\">\n",
              "      <th></th>\n",
              "      <th>ObservationDate</th>\n",
              "      <th>Province/State</th>\n",
              "    </tr>\n",
              "  </thead>\n",
              "  <tbody>\n",
              "    <tr>\n",
              "      <th>29240</th>\n",
              "      <td>05/25/2020</td>\n",
              "      <td>Guam</td>\n",
              "    </tr>\n",
              "    <tr>\n",
              "      <th>147810</th>\n",
              "      <td>11/04/2020</td>\n",
              "      <td>Niedersachsen</td>\n",
              "    </tr>\n",
              "    <tr>\n",
              "      <th>52479</th>\n",
              "      <td>06/29/2020</td>\n",
              "      <td>NaN</td>\n",
              "    </tr>\n",
              "    <tr>\n",
              "      <th>1091</th>\n",
              "      <td>02/09/2020</td>\n",
              "      <td>NaN</td>\n",
              "    </tr>\n",
              "    <tr>\n",
              "      <th>10974</th>\n",
              "      <td>04/01/2020</td>\n",
              "      <td>West Virginia</td>\n",
              "    </tr>\n",
              "    <tr>\n",
              "      <th>...</th>\n",
              "      <td>...</td>\n",
              "      <td>...</td>\n",
              "    </tr>\n",
              "    <tr>\n",
              "      <th>40356</th>\n",
              "      <td>06/12/2020</td>\n",
              "      <td>Connecticut</td>\n",
              "    </tr>\n",
              "    <tr>\n",
              "      <th>119034</th>\n",
              "      <td>09/27/2020</td>\n",
              "      <td>NaN</td>\n",
              "    </tr>\n",
              "    <tr>\n",
              "      <th>49935</th>\n",
              "      <td>06/25/2020</td>\n",
              "      <td>Kabardino-Balkarian Republic</td>\n",
              "    </tr>\n",
              "    <tr>\n",
              "      <th>35112</th>\n",
              "      <td>06/04/2020</td>\n",
              "      <td>Sint Maarten</td>\n",
              "    </tr>\n",
              "    <tr>\n",
              "      <th>148950</th>\n",
              "      <td>11/06/2020</td>\n",
              "      <td>NaN</td>\n",
              "    </tr>\n",
              "  </tbody>\n",
              "</table>\n",
              "<p>46888 rows × 2 columns</p>\n",
              "</div>"
            ],
            "text/plain": [
              "       ObservationDate                Province/State\n",
              "29240       05/25/2020                          Guam\n",
              "147810      11/04/2020                 Niedersachsen\n",
              "52479       06/29/2020                           NaN\n",
              "1091        02/09/2020                           NaN\n",
              "10974       04/01/2020                 West Virginia\n",
              "...                ...                           ...\n",
              "40356       06/12/2020                   Connecticut\n",
              "119034      09/27/2020                           NaN\n",
              "49935       06/25/2020  Kabardino-Balkarian Republic\n",
              "35112       06/04/2020                  Sint Maarten\n",
              "148950      11/06/2020                           NaN\n",
              "\n",
              "[46888 rows x 2 columns]"
            ]
          },
          "metadata": {
            "tags": []
          },
          "execution_count": 21
        }
      ]
    },
    {
      "cell_type": "code",
      "metadata": {
        "colab": {
          "base_uri": "https://localhost:8080/"
        },
        "id": "PI_qzjTi8sh2",
        "outputId": "0bb6ea11-2236-41bd-f144-d782b4cc6f56"
      },
      "source": [
        "y_train"
      ],
      "execution_count": 15,
      "outputs": [
        {
          "output_type": "execute_result",
          "data": {
            "text/plain": [
              "48465                  Ukraine\n",
              "60810                   Brazil\n",
              "18593           Mainland China\n",
              "13004              New Zealand\n",
              "668       United Arab Emirates\n",
              "                  ...         \n",
              "22955                    Niger\n",
              "154597                   India\n",
              "46230                   Brazil\n",
              "114602                 Burundi\n",
              "68203                   Russia\n",
              "Name: Country/Region, Length: 125033, dtype: object"
            ]
          },
          "metadata": {
            "tags": []
          },
          "execution_count": 15
        }
      ]
    },
    {
      "cell_type": "code",
      "metadata": {
        "colab": {
          "base_uri": "https://localhost:8080/"
        },
        "id": "AvTwrysV8u44",
        "outputId": "2d23381a-0670-4b3a-c179-d21cf3c20981"
      },
      "source": [
        "y_test"
      ],
      "execution_count": 16,
      "outputs": [
        {
          "output_type": "execute_result",
          "data": {
            "text/plain": [
              "98505                Spain\n",
              "138179              Brazil\n",
              "1308                France\n",
              "57867               Brazil\n",
              "9963        Mainland China\n",
              "                ...       \n",
              "89180                 Peru\n",
              "155467              Russia\n",
              "123867              Russia\n",
              "142309              Russia\n",
              "20618     Diamond Princess\n",
              "Name: Country/Region, Length: 31259, dtype: object"
            ]
          },
          "metadata": {
            "tags": []
          },
          "execution_count": 16
        }
      ]
    },
    {
      "cell_type": "code",
      "metadata": {
        "id": "cJ3pZats83Qv"
      },
      "source": [
        "x_train,x_test,y_train,y_test=train_test_split(x,y,test_size=0.3,random_state=70)"
      ],
      "execution_count": 27,
      "outputs": []
    },
    {
      "cell_type": "code",
      "metadata": {
        "colab": {
          "base_uri": "https://localhost:8080/",
          "height": 419
        },
        "id": "WDdpFNlg_hGC",
        "outputId": "a3cab734-7036-41bf-c0ff-1efa300ebff3"
      },
      "source": [
        "x_train"
      ],
      "execution_count": 28,
      "outputs": [
        {
          "output_type": "execute_result",
          "data": {
            "text/html": [
              "<div>\n",
              "<style scoped>\n",
              "    .dataframe tbody tr th:only-of-type {\n",
              "        vertical-align: middle;\n",
              "    }\n",
              "\n",
              "    .dataframe tbody tr th {\n",
              "        vertical-align: top;\n",
              "    }\n",
              "\n",
              "    .dataframe thead th {\n",
              "        text-align: right;\n",
              "    }\n",
              "</style>\n",
              "<table border=\"1\" class=\"dataframe\">\n",
              "  <thead>\n",
              "    <tr style=\"text-align: right;\">\n",
              "      <th></th>\n",
              "      <th>ObservationDate</th>\n",
              "      <th>Province/State</th>\n",
              "    </tr>\n",
              "  </thead>\n",
              "  <tbody>\n",
              "    <tr>\n",
              "      <th>147693</th>\n",
              "      <td>11/04/2020</td>\n",
              "      <td>Kaluga Oblast</td>\n",
              "    </tr>\n",
              "    <tr>\n",
              "      <th>122107</th>\n",
              "      <td>10/01/2020</td>\n",
              "      <td>NaN</td>\n",
              "    </tr>\n",
              "    <tr>\n",
              "      <th>101121</th>\n",
              "      <td>09/02/2020</td>\n",
              "      <td>Sucre</td>\n",
              "    </tr>\n",
              "    <tr>\n",
              "      <th>51841</th>\n",
              "      <td>06/28/2020</td>\n",
              "      <td>NaN</td>\n",
              "    </tr>\n",
              "    <tr>\n",
              "      <th>1806</th>\n",
              "      <td>02/19/2020</td>\n",
              "      <td>Fujian</td>\n",
              "    </tr>\n",
              "    <tr>\n",
              "      <th>...</th>\n",
              "      <td>...</td>\n",
              "      <td>...</td>\n",
              "    </tr>\n",
              "    <tr>\n",
              "      <th>81748</th>\n",
              "      <td>08/07/2020</td>\n",
              "      <td>Prince Edward Island</td>\n",
              "    </tr>\n",
              "    <tr>\n",
              "      <th>77620</th>\n",
              "      <td>08/02/2020</td>\n",
              "      <td>NaN</td>\n",
              "    </tr>\n",
              "    <tr>\n",
              "      <th>45024</th>\n",
              "      <td>06/18/2020</td>\n",
              "      <td>Reunion</td>\n",
              "    </tr>\n",
              "    <tr>\n",
              "      <th>80768</th>\n",
              "      <td>08/06/2020</td>\n",
              "      <td>Greenland</td>\n",
              "    </tr>\n",
              "    <tr>\n",
              "      <th>152635</th>\n",
              "      <td>11/11/2020</td>\n",
              "      <td>NaN</td>\n",
              "    </tr>\n",
              "  </tbody>\n",
              "</table>\n",
              "<p>109404 rows × 2 columns</p>\n",
              "</div>"
            ],
            "text/plain": [
              "       ObservationDate        Province/State\n",
              "147693      11/04/2020         Kaluga Oblast\n",
              "122107      10/01/2020                   NaN\n",
              "101121      09/02/2020                 Sucre\n",
              "51841       06/28/2020                   NaN\n",
              "1806        02/19/2020                Fujian\n",
              "...                ...                   ...\n",
              "81748       08/07/2020  Prince Edward Island\n",
              "77620       08/02/2020                   NaN\n",
              "45024       06/18/2020               Reunion\n",
              "80768       08/06/2020             Greenland\n",
              "152635      11/11/2020                   NaN\n",
              "\n",
              "[109404 rows x 2 columns]"
            ]
          },
          "metadata": {
            "tags": []
          },
          "execution_count": 28
        }
      ]
    },
    {
      "cell_type": "code",
      "metadata": {
        "colab": {
          "base_uri": "https://localhost:8080/",
          "height": 419
        },
        "id": "g3kaeO0cB7V_",
        "outputId": "ba19aa4e-bec0-42c0-f1a8-2a055a74e31e"
      },
      "source": [
        "x_test"
      ],
      "execution_count": 33,
      "outputs": [
        {
          "output_type": "execute_result",
          "data": {
            "text/html": [
              "<div>\n",
              "<style scoped>\n",
              "    .dataframe tbody tr th:only-of-type {\n",
              "        vertical-align: middle;\n",
              "    }\n",
              "\n",
              "    .dataframe tbody tr th {\n",
              "        vertical-align: top;\n",
              "    }\n",
              "\n",
              "    .dataframe thead th {\n",
              "        text-align: right;\n",
              "    }\n",
              "</style>\n",
              "<table border=\"1\" class=\"dataframe\">\n",
              "  <thead>\n",
              "    <tr style=\"text-align: right;\">\n",
              "      <th></th>\n",
              "      <th>ObservationDate</th>\n",
              "      <th>Province/State</th>\n",
              "    </tr>\n",
              "  </thead>\n",
              "  <tbody>\n",
              "    <tr>\n",
              "      <th>154680</th>\n",
              "      <td>11/13/2020</td>\n",
              "      <td>Tarapaca</td>\n",
              "    </tr>\n",
              "    <tr>\n",
              "      <th>3878</th>\n",
              "      <td>03/07/2020</td>\n",
              "      <td>NaN</td>\n",
              "    </tr>\n",
              "    <tr>\n",
              "      <th>93346</th>\n",
              "      <td>08/23/2020</td>\n",
              "      <td>Dalarna</td>\n",
              "    </tr>\n",
              "    <tr>\n",
              "      <th>1615</th>\n",
              "      <td>02/16/2020</td>\n",
              "      <td>NaN</td>\n",
              "    </tr>\n",
              "    <tr>\n",
              "      <th>1375</th>\n",
              "      <td>02/13/2020</td>\n",
              "      <td>NaN</td>\n",
              "    </tr>\n",
              "    <tr>\n",
              "      <th>...</th>\n",
              "      <td>...</td>\n",
              "      <td>...</td>\n",
              "    </tr>\n",
              "    <tr>\n",
              "      <th>28272</th>\n",
              "      <td>05/23/2020</td>\n",
              "      <td>Bahia</td>\n",
              "    </tr>\n",
              "    <tr>\n",
              "      <th>48844</th>\n",
              "      <td>06/24/2020</td>\n",
              "      <td>NaN</td>\n",
              "    </tr>\n",
              "    <tr>\n",
              "      <th>101940</th>\n",
              "      <td>09/03/2020</td>\n",
              "      <td>West Bengal</td>\n",
              "    </tr>\n",
              "    <tr>\n",
              "      <th>65994</th>\n",
              "      <td>07/17/2020</td>\n",
              "      <td>Khakassia Republic</td>\n",
              "    </tr>\n",
              "    <tr>\n",
              "      <th>73757</th>\n",
              "      <td>07/28/2020</td>\n",
              "      <td>NaN</td>\n",
              "    </tr>\n",
              "  </tbody>\n",
              "</table>\n",
              "<p>31259 rows × 2 columns</p>\n",
              "</div>"
            ],
            "text/plain": [
              "       ObservationDate      Province/State\n",
              "154680      11/13/2020            Tarapaca\n",
              "3878        03/07/2020                 NaN\n",
              "93346       08/23/2020             Dalarna\n",
              "1615        02/16/2020                 NaN\n",
              "1375        02/13/2020                 NaN\n",
              "...                ...                 ...\n",
              "28272       05/23/2020               Bahia\n",
              "48844       06/24/2020                 NaN\n",
              "101940      09/03/2020         West Bengal\n",
              "65994       07/17/2020  Khakassia Republic\n",
              "73757       07/28/2020                 NaN\n",
              "\n",
              "[31259 rows x 2 columns]"
            ]
          },
          "metadata": {
            "tags": []
          },
          "execution_count": 33
        }
      ]
    },
    {
      "cell_type": "code",
      "metadata": {
        "colab": {
          "base_uri": "https://localhost:8080/"
        },
        "id": "E2sv7az-CAox",
        "outputId": "3d640f73-a493-47a3-94db-2a79a4b676e5"
      },
      "source": [
        "y_train"
      ],
      "execution_count": 34,
      "outputs": [
        {
          "output_type": "execute_result",
          "data": {
            "text/plain": [
              "110050     Italy\n",
              "94386         US\n",
              "88763     Uganda\n",
              "153216    Sweden\n",
              "93539      Italy\n",
              "           ...  \n",
              "151561     Japan\n",
              "54443     Canada\n",
              "76047      Haiti\n",
              "155808    Mexico\n",
              "102503    Canada\n",
              "Name: Country/Region, Length: 125033, dtype: object"
            ]
          },
          "metadata": {
            "tags": []
          },
          "execution_count": 34
        }
      ]
    },
    {
      "cell_type": "code",
      "metadata": {
        "colab": {
          "base_uri": "https://localhost:8080/"
        },
        "id": "onh19qWFCEP2",
        "outputId": "086e81bb-8bdd-4a1d-d87c-984ca19eadc1"
      },
      "source": [
        "y_test"
      ],
      "execution_count": 35,
      "outputs": [
        {
          "output_type": "execute_result",
          "data": {
            "text/plain": [
              "154680                     Chile\n",
              "3878                   Indonesia\n",
              "93346                     Sweden\n",
              "1615                 Philippines\n",
              "1375                 South Korea\n",
              "                   ...          \n",
              "28272                     Brazil\n",
              "48844     Bosnia and Herzegovina\n",
              "101940                     India\n",
              "65994                     Russia\n",
              "73757        Antigua and Barbuda\n",
              "Name: Country/Region, Length: 31259, dtype: object"
            ]
          },
          "metadata": {
            "tags": []
          },
          "execution_count": 35
        }
      ]
    }
  ]
}